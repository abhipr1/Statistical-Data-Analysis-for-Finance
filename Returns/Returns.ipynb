{
 "cells": [
  {
   "cell_type": "code",
   "execution_count": 1,
   "metadata": {
    "collapsed": false
   },
   "outputs": [],
   "source": [
    "%matplotlib inline\n",
    "import matplotlib.pyplot as plt\n",
    "import matplotlib.dates as mdates\n",
    "from numpy import linspace, array, log\n",
    "import seaborn as sns\n",
    "import pandas as pd\n",
    "from sklearn import preprocessing\n",
    "from rpy2.robjects import r\n",
    "from rpy2.robjects.packages import importr\n",
    "import numpy as np\n",
    "import math\n",
    "from scipy import stats\n",
    "\n",
    "sns.set()"
   ]
  },
  {
   "cell_type": "markdown",
   "metadata": {},
   "source": [
    "<span style=\"color:blue;\">**Net Return**</span>\n",
    "\n",
    "Let Pt be the price of an asset at time t. Assuming no dividends, the net return over the holding period from time t−1 to time t is\n",
    "$$R_{t} = {P_{t} \\over {P_{t-1}}} -1.$$\n",
    "\n",
    "<span style=\"color:blue;\">**Gross Return**</span>\n",
    "$${P_{t} \\over {P_{t-1}}} = 1 + R_{t}.$$\n",
    "\n",
    "\n",
    "<span style=\"color:blue;\">**Log Return**</span>\n",
    "\n",
    "Log returns, also called continuously compounded returns.\n",
    "$${r_{t}} = log{(1 + R_{t})} = log{P_{t} \\over {P_{t-1}}} = {P_{t} - {P_{t-1}}}  $$\n",
    "\n",
    "For small value of x log returns are approximately equal to returns because log(1+x) ≈ x. Let's plot it."
   ]
  },
  {
   "cell_type": "code",
   "execution_count": 2,
   "metadata": {
    "collapsed": false
   },
   "outputs": [],
   "source": [
    "x = linspace(-0.3,0.3, 50)\n",
    "y_log=log(1+x)\n",
    "y = x"
   ]
  },
  {
   "cell_type": "code",
   "execution_count": 3,
   "metadata": {
    "collapsed": false
   },
   "outputs": [
    {
     "data": {
      "text/plain": [
       "<matplotlib.legend.Legend at 0x7f5b52248b90>"
      ]
     },
     "execution_count": 3,
     "metadata": {},
     "output_type": "execute_result"
    },
    {
     "data": {
      "image/png": "[encoded data removed]",
      "text/plain": [
       "<matplotlib.figure.Figure at 0x7f5b522b1210>"
      ]
     },
     "metadata": {},
     "output_type": "display_data"
    }
   ],
   "source": [
    "fig = plt.figure()\n",
    "fig.suptitle('Comparison of functions y=log(1 + x) VS y=x', fontsize=14, fontweight='bold', color='g')\n",
    "ax = fig.add_subplot(111)\n",
    "ax.set_xlabel('x', size='large', fontweight='bold')\n",
    "ax.set_ylabel('log(1+x)', size='large', fontweight='bold')\n",
    "ax.plot(x,y, 'b--')\n",
    "ax.plot(x,y_log, 'r-')\n",
    "ax.legend(['x', 'log(1+x)'], loc='upper left')"
   ]
  },
  {
   "cell_type": "markdown",
   "metadata": {},
   "source": [
    "**Random Walk Model**\n",
    "\n",
    "The random walk hypothesis states that the single-period log returns, $r_t = log(1 + R_t)$, are independent. Because\n",
    "\n",
    "${1 + R_t(k)} = {(1+R_{t}) · · · (1 + R_{t−k+1})}= exp^{(rt)} · · · exp^{(r_{( t−k+1 )})} = exp^{( r_t + · · · + r_{t−k+1} )}$\n",
    "\n",
    "So finally we have\n",
    "$$log{(1 + R_t(k))} = r_t + · · · + r_{(t−k+1)} $$\n",
    "\n",
    "From normal distribution, normal random variables are themselves normal with  N(μ, σ2)\n",
    "Under above assumption:\n",
    "$$log{(1 + R_t(k))} = N{(k{\\mu}, k{\\sigma}^2)} $$"
   ]
  },
  {
   "cell_type": "markdown",
   "metadata": {
    "collapsed": true
   },
   "source": [
    "\n",
    "**-------------**\n",
    "#### <span style=\"color:red;\">Data Analysis</span>\n",
    "**-------------**"
   ]
  },
  {
   "cell_type": "markdown",
   "metadata": {},
   "source": [
    "Load data and explore."
   ]
  },
  {
   "cell_type": "code",
   "execution_count": 4,
   "metadata": {
    "collapsed": false
   },
   "outputs": [],
   "source": [
    "dat = pd.read_csv(\"Stock_FX_Bond.csv\")"
   ]
  },
  {
   "cell_type": "code",
   "execution_count": 5,
   "metadata": {
    "collapsed": false
   },
   "outputs": [
    {
     "data": {
      "text/html": [
       "<div>\n",
       "<table border=\"1\" class=\"dataframe\">\n",
       "  <thead>\n",
       "    <tr style=\"text-align: right;\">\n",
       "      <th></th>\n",
       "      <th>GM_Volume</th>\n",
       "      <th>GM_AC</th>\n",
       "      <th>F_Volume</th>\n",
       "      <th>F_AC</th>\n",
       "      <th>UTX_Volume</th>\n",
       "      <th>UTX_AC</th>\n",
       "      <th>CAT_Volume</th>\n",
       "      <th>CAT_AC</th>\n",
       "      <th>MRK_Volume</th>\n",
       "      <th>MRK_AC</th>\n",
       "      <th>...</th>\n",
       "      <th>S&amp;P_Volume</th>\n",
       "      <th>1 year Treasury Constant Maturity Rate</th>\n",
       "      <th>3-Year Treasury Constant Maturity Rate</th>\n",
       "      <th>10 year Treasury Constant Maturity Rate</th>\n",
       "      <th>30 year Treasury Constant Maturity Rate</th>\n",
       "      <th>Aaa Bond Yield</th>\n",
       "      <th>Baa Bond Yield</th>\n",
       "      <th>$/Euro</th>\n",
       "      <th>Yen/$</th>\n",
       "      <th>Brazil Real/$</th>\n",
       "    </tr>\n",
       "  </thead>\n",
       "  <tbody>\n",
       "    <tr>\n",
       "      <th>count</th>\n",
       "      <td>4963.000000</td>\n",
       "      <td>4963.000000</td>\n",
       "      <td>4963.000000</td>\n",
       "      <td>4963.000000</td>\n",
       "      <td>4963.000000</td>\n",
       "      <td>4963.000000</td>\n",
       "      <td>4963.000000</td>\n",
       "      <td>4963.000000</td>\n",
       "      <td>4.963000e+03</td>\n",
       "      <td>4963.000000</td>\n",
       "      <td>...</td>\n",
       "      <td>4.963000e+03</td>\n",
       "      <td>4917.000000</td>\n",
       "      <td>4917.000000</td>\n",
       "      <td>4917.000000</td>\n",
       "      <td>3923.000000</td>\n",
       "      <td>4944.000000</td>\n",
       "      <td>4944.000000</td>\n",
       "      <td>1916.000000</td>\n",
       "      <td>4917.000000</td>\n",
       "      <td>2912.000000</td>\n",
       "    </tr>\n",
       "    <tr>\n",
       "      <th>mean</th>\n",
       "      <td>3534697.561958</td>\n",
       "      <td>28.881479</td>\n",
       "      <td>7135269.878702</td>\n",
       "      <td>9.854173</td>\n",
       "      <td>3383282.349385</td>\n",
       "      <td>19.447149</td>\n",
       "      <td>3546431.553496</td>\n",
       "      <td>18.214086</td>\n",
       "      <td>6.392737e+06</td>\n",
       "      <td>27.884219</td>\n",
       "      <td>...</td>\n",
       "      <td>7.283479e+08</td>\n",
       "      <td>4.995076</td>\n",
       "      <td>5.594623</td>\n",
       "      <td>6.299062</td>\n",
       "      <td>7.071746</td>\n",
       "      <td>7.483402</td>\n",
       "      <td>8.354318</td>\n",
       "      <td>1.080268</td>\n",
       "      <td>120.244214</td>\n",
       "      <td>1.970424</td>\n",
       "    </tr>\n",
       "    <tr>\n",
       "      <th>std</th>\n",
       "      <td>4184058.147988</td>\n",
       "      <td>12.086652</td>\n",
       "      <td>6274310.775873</td>\n",
       "      <td>6.356104</td>\n",
       "      <td>2036372.203284</td>\n",
       "      <td>16.568905</td>\n",
       "      <td>2194442.628891</td>\n",
       "      <td>15.778303</td>\n",
       "      <td>4.713258e+06</td>\n",
       "      <td>18.350074</td>\n",
       "      <td>...</td>\n",
       "      <td>6.359426e+08</td>\n",
       "      <td>2.025355</td>\n",
       "      <td>1.880885</td>\n",
       "      <td>1.582902</td>\n",
       "      <td>1.261452</td>\n",
       "      <td>1.356176</td>\n",
       "      <td>1.418911</td>\n",
       "      <td>0.147413</td>\n",
       "      <td>14.773249</td>\n",
       "      <td>0.799646</td>\n",
       "    </tr>\n",
       "    <tr>\n",
       "      <th>min</th>\n",
       "      <td>171400.000000</td>\n",
       "      <td>9.320000</td>\n",
       "      <td>303800.000000</td>\n",
       "      <td>2.310000</td>\n",
       "      <td>108800.000000</td>\n",
       "      <td>2.430000</td>\n",
       "      <td>343200.000000</td>\n",
       "      <td>3.380000</td>\n",
       "      <td>7.160000e+05</td>\n",
       "      <td>4.020000</td>\n",
       "      <td>...</td>\n",
       "      <td>1.246000e+07</td>\n",
       "      <td>0.880000</td>\n",
       "      <td>1.340000</td>\n",
       "      <td>3.130000</td>\n",
       "      <td>4.480000</td>\n",
       "      <td>4.760000</td>\n",
       "      <td>5.640000</td>\n",
       "      <td>0.827000</td>\n",
       "      <td>81.120000</td>\n",
       "      <td>0.832000</td>\n",
       "    </tr>\n",
       "    <tr>\n",
       "      <th>25%</th>\n",
       "      <td>1553100.000000</td>\n",
       "      <td>18.350000</td>\n",
       "      <td>3707200.000000</td>\n",
       "      <td>4.530000</td>\n",
       "      <td>2088800.000000</td>\n",
       "      <td>4.710000</td>\n",
       "      <td>2183100.000000</td>\n",
       "      <td>5.360000</td>\n",
       "      <td>4.038250e+06</td>\n",
       "      <td>10.850000</td>\n",
       "      <td>...</td>\n",
       "      <td>2.015700e+08</td>\n",
       "      <td>3.530000</td>\n",
       "      <td>4.350000</td>\n",
       "      <td>5.000000</td>\n",
       "      <td>5.980000</td>\n",
       "      <td>6.547500</td>\n",
       "      <td>7.370000</td>\n",
       "      <td>0.937400</td>\n",
       "      <td>108.530000</td>\n",
       "      <td>1.111000</td>\n",
       "    </tr>\n",
       "    <tr>\n",
       "      <th>50%</th>\n",
       "      <td>2382300.000000</td>\n",
       "      <td>26.990000</td>\n",
       "      <td>5351500.000000</td>\n",
       "      <td>7.760000</td>\n",
       "      <td>2985800.000000</td>\n",
       "      <td>13.680000</td>\n",
       "      <td>3144600.000000</td>\n",
       "      <td>14.390000</td>\n",
       "      <td>5.407400e+06</td>\n",
       "      <td>25.210000</td>\n",
       "      <td>...</td>\n",
       "      <td>4.496000e+08</td>\n",
       "      <td>5.320000</td>\n",
       "      <td>5.720000</td>\n",
       "      <td>6.110000</td>\n",
       "      <td>6.930000</td>\n",
       "      <td>7.400000</td>\n",
       "      <td>8.130000</td>\n",
       "      <td>1.076400</td>\n",
       "      <td>119.260000</td>\n",
       "      <td>1.954750</td>\n",
       "    </tr>\n",
       "    <tr>\n",
       "      <th>75%</th>\n",
       "      <td>3949750.000000</td>\n",
       "      <td>37.410000</td>\n",
       "      <td>8106700.000000</td>\n",
       "      <td>13.085000</td>\n",
       "      <td>4178800.000000</td>\n",
       "      <td>30.635000</td>\n",
       "      <td>4386000.000000</td>\n",
       "      <td>23.030000</td>\n",
       "      <td>7.428450e+06</td>\n",
       "      <td>43.995000</td>\n",
       "      <td>...</td>\n",
       "      <td>1.191900e+09</td>\n",
       "      <td>6.210000</td>\n",
       "      <td>6.810000</td>\n",
       "      <td>7.580000</td>\n",
       "      <td>8.110000</td>\n",
       "      <td>8.460000</td>\n",
       "      <td>9.412500</td>\n",
       "      <td>1.212250</td>\n",
       "      <td>129.900000</td>\n",
       "      <td>2.606750</td>\n",
       "    </tr>\n",
       "    <tr>\n",
       "      <th>max</th>\n",
       "      <td>69305000.000000</td>\n",
       "      <td>69.700000</td>\n",
       "      <td>83554704.000000</td>\n",
       "      <td>27.920000</td>\n",
       "      <td>39788400.000000</td>\n",
       "      <td>65.600000</td>\n",
       "      <td>39300800.000000</td>\n",
       "      <td>80.790000</td>\n",
       "      <td>1.450155e+08</td>\n",
       "      <td>73.870000</td>\n",
       "      <td>...</td>\n",
       "      <td>3.543790e+09</td>\n",
       "      <td>9.850000</td>\n",
       "      <td>9.880000</td>\n",
       "      <td>10.230000</td>\n",
       "      <td>10.250000</td>\n",
       "      <td>11.060000</td>\n",
       "      <td>12.040000</td>\n",
       "      <td>1.362500</td>\n",
       "      <td>159.900000</td>\n",
       "      <td>3.945000</td>\n",
       "    </tr>\n",
       "  </tbody>\n",
       "</table>\n",
       "<p>8 rows × 31 columns</p>\n",
       "</div>"
      ],
      "text/plain": [
       "             GM_Volume        GM_AC         F_Volume         F_AC  \\\n",
       "count      4963.000000  4963.000000      4963.000000  4963.000000   \n",
       "mean    3534697.561958    28.881479   7135269.878702     9.854173   \n",
       "std     4184058.147988    12.086652   6274310.775873     6.356104   \n",
       "min      171400.000000     9.320000    303800.000000     2.310000   \n",
       "25%     1553100.000000    18.350000   3707200.000000     4.530000   \n",
       "50%     2382300.000000    26.990000   5351500.000000     7.760000   \n",
       "75%     3949750.000000    37.410000   8106700.000000    13.085000   \n",
       "max    69305000.000000    69.700000  83554704.000000    27.920000   \n",
       "\n",
       "            UTX_Volume       UTX_AC       CAT_Volume       CAT_AC  \\\n",
       "count      4963.000000  4963.000000      4963.000000  4963.000000   \n",
       "mean    3383282.349385    19.447149   3546431.553496    18.214086   \n",
       "std     2036372.203284    16.568905   2194442.628891    15.778303   \n",
       "min      108800.000000     2.430000    343200.000000     3.380000   \n",
       "25%     2088800.000000     4.710000   2183100.000000     5.360000   \n",
       "50%     2985800.000000    13.680000   3144600.000000    14.390000   \n",
       "75%     4178800.000000    30.635000   4386000.000000    23.030000   \n",
       "max    39788400.000000    65.600000  39300800.000000    80.790000   \n",
       "\n",
       "         MRK_Volume       MRK_AC      ...          S&P_Volume  \\\n",
       "count  4.963000e+03  4963.000000      ...        4.963000e+03   \n",
       "mean   6.392737e+06    27.884219      ...        7.283479e+08   \n",
       "std    4.713258e+06    18.350074      ...        6.359426e+08   \n",
       "min    7.160000e+05     4.020000      ...        1.246000e+07   \n",
       "25%    4.038250e+06    10.850000      ...        2.015700e+08   \n",
       "50%    5.407400e+06    25.210000      ...        4.496000e+08   \n",
       "75%    7.428450e+06    43.995000      ...        1.191900e+09   \n",
       "max    1.450155e+08    73.870000      ...        3.543790e+09   \n",
       "\n",
       "       1 year Treasury Constant Maturity Rate  \\\n",
       "count                             4917.000000   \n",
       "mean                                 4.995076   \n",
       "std                                  2.025355   \n",
       "min                                  0.880000   \n",
       "25%                                  3.530000   \n",
       "50%                                  5.320000   \n",
       "75%                                  6.210000   \n",
       "max                                  9.850000   \n",
       "\n",
       "       3-Year Treasury Constant Maturity Rate  \\\n",
       "count                             4917.000000   \n",
       "mean                                 5.594623   \n",
       "std                                  1.880885   \n",
       "min                                  1.340000   \n",
       "25%                                  4.350000   \n",
       "50%                                  5.720000   \n",
       "75%                                  6.810000   \n",
       "max                                  9.880000   \n",
       "\n",
       "       10 year Treasury Constant Maturity Rate  \\\n",
       "count                              4917.000000   \n",
       "mean                                  6.299062   \n",
       "std                                   1.582902   \n",
       "min                                   3.130000   \n",
       "25%                                   5.000000   \n",
       "50%                                   6.110000   \n",
       "75%                                   7.580000   \n",
       "max                                  10.230000   \n",
       "\n",
       "       30 year Treasury Constant Maturity Rate  Aaa Bond Yield  \\\n",
       "count                              3923.000000     4944.000000   \n",
       "mean                                  7.071746        7.483402   \n",
       "std                                   1.261452        1.356176   \n",
       "min                                   4.480000        4.760000   \n",
       "25%                                   5.980000        6.547500   \n",
       "50%                                   6.930000        7.400000   \n",
       "75%                                   8.110000        8.460000   \n",
       "max                                  10.250000       11.060000   \n",
       "\n",
       "       Baa Bond Yield       $/Euro        Yen/$  Brazil Real/$  \n",
       "count     4944.000000  1916.000000  4917.000000    2912.000000  \n",
       "mean         8.354318     1.080268   120.244214       1.970424  \n",
       "std          1.418911     0.147413    14.773249       0.799646  \n",
       "min          5.640000     0.827000    81.120000       0.832000  \n",
       "25%          7.370000     0.937400   108.530000       1.111000  \n",
       "50%          8.130000     1.076400   119.260000       1.954750  \n",
       "75%          9.412500     1.212250   129.900000       2.606750  \n",
       "max         12.040000     1.362500   159.900000       3.945000  \n",
       "\n",
       "[8 rows x 31 columns]"
      ]
     },
     "execution_count": 5,
     "metadata": {},
     "output_type": "execute_result"
    }
   ],
   "source": [
    "dat.describe()"
   ]
  },
  {
   "cell_type": "code",
   "execution_count": 6,
   "metadata": {
    "collapsed": false
   },
   "outputs": [
    {
     "data": {
      "text/html": [
       "<div>\n",
       "<table border=\"1\" class=\"dataframe\">\n",
       "  <thead>\n",
       "    <tr style=\"text-align: right;\">\n",
       "      <th></th>\n",
       "      <th>Date</th>\n",
       "      <th>GM_Volume</th>\n",
       "      <th>GM_AC</th>\n",
       "      <th>F_Volume</th>\n",
       "      <th>F_AC</th>\n",
       "      <th>UTX_Volume</th>\n",
       "      <th>UTX_AC</th>\n",
       "      <th>CAT_Volume</th>\n",
       "      <th>CAT_AC</th>\n",
       "      <th>MRK_Volume</th>\n",
       "      <th>...</th>\n",
       "      <th>S&amp;P_Volume</th>\n",
       "      <th>1 year Treasury Constant Maturity Rate</th>\n",
       "      <th>3-Year Treasury Constant Maturity Rate</th>\n",
       "      <th>10 year Treasury Constant Maturity Rate</th>\n",
       "      <th>30 year Treasury Constant Maturity Rate</th>\n",
       "      <th>Aaa Bond Yield</th>\n",
       "      <th>Baa Bond Yield</th>\n",
       "      <th>$/Euro</th>\n",
       "      <th>Yen/$</th>\n",
       "      <th>Brazil Real/$</th>\n",
       "    </tr>\n",
       "  </thead>\n",
       "  <tbody>\n",
       "    <tr>\n",
       "      <th>0</th>\n",
       "      <td>2-Jan-87</td>\n",
       "      <td>922200</td>\n",
       "      <td>11.45</td>\n",
       "      <td>2540100</td>\n",
       "      <td>2.31</td>\n",
       "      <td>1130400</td>\n",
       "      <td>3.66</td>\n",
       "      <td>1218400</td>\n",
       "      <td>3.38</td>\n",
       "      <td>14454000</td>\n",
       "      <td>...</td>\n",
       "      <td>91880000</td>\n",
       "      <td>5.86</td>\n",
       "      <td>6.48</td>\n",
       "      <td>7.18</td>\n",
       "      <td>7.44</td>\n",
       "      <td>8.49</td>\n",
       "      <td>9.97</td>\n",
       "      <td>NaN</td>\n",
       "      <td>158.25</td>\n",
       "      <td>NaN</td>\n",
       "    </tr>\n",
       "    <tr>\n",
       "      <th>1</th>\n",
       "      <td>5-Jan-87</td>\n",
       "      <td>2100000</td>\n",
       "      <td>11.73</td>\n",
       "      <td>8670000</td>\n",
       "      <td>2.40</td>\n",
       "      <td>3032800</td>\n",
       "      <td>3.70</td>\n",
       "      <td>1752000</td>\n",
       "      <td>3.48</td>\n",
       "      <td>11538000</td>\n",
       "      <td>...</td>\n",
       "      <td>181900000</td>\n",
       "      <td>5.85</td>\n",
       "      <td>6.41</td>\n",
       "      <td>7.08</td>\n",
       "      <td>7.35</td>\n",
       "      <td>8.44</td>\n",
       "      <td>9.90</td>\n",
       "      <td>NaN</td>\n",
       "      <td>159.40</td>\n",
       "      <td>NaN</td>\n",
       "    </tr>\n",
       "    <tr>\n",
       "      <th>2</th>\n",
       "      <td>6-Jan-87</td>\n",
       "      <td>2720000</td>\n",
       "      <td>11.77</td>\n",
       "      <td>6992000</td>\n",
       "      <td>2.43</td>\n",
       "      <td>6614400</td>\n",
       "      <td>3.74</td>\n",
       "      <td>1206400</td>\n",
       "      <td>3.48</td>\n",
       "      <td>14279400</td>\n",
       "      <td>...</td>\n",
       "      <td>189300000</td>\n",
       "      <td>5.85</td>\n",
       "      <td>6.42</td>\n",
       "      <td>7.08</td>\n",
       "      <td>7.36</td>\n",
       "      <td>8.41</td>\n",
       "      <td>9.86</td>\n",
       "      <td>NaN</td>\n",
       "      <td>158.78</td>\n",
       "      <td>NaN</td>\n",
       "    </tr>\n",
       "    <tr>\n",
       "      <th>3</th>\n",
       "      <td>7-Jan-87</td>\n",
       "      <td>2000400</td>\n",
       "      <td>11.83</td>\n",
       "      <td>7621200</td>\n",
       "      <td>2.53</td>\n",
       "      <td>4233600</td>\n",
       "      <td>3.78</td>\n",
       "      <td>2188000</td>\n",
       "      <td>3.45</td>\n",
       "      <td>13003200</td>\n",
       "      <td>...</td>\n",
       "      <td>190900000</td>\n",
       "      <td>5.78</td>\n",
       "      <td>6.37</td>\n",
       "      <td>7.05</td>\n",
       "      <td>7.33</td>\n",
       "      <td>8.40</td>\n",
       "      <td>9.82</td>\n",
       "      <td>NaN</td>\n",
       "      <td>158.05</td>\n",
       "      <td>NaN</td>\n",
       "    </tr>\n",
       "    <tr>\n",
       "      <th>4</th>\n",
       "      <td>8-Jan-87</td>\n",
       "      <td>2460000</td>\n",
       "      <td>11.66</td>\n",
       "      <td>5807500</td>\n",
       "      <td>2.51</td>\n",
       "      <td>3816800</td>\n",
       "      <td>3.82</td>\n",
       "      <td>2195200</td>\n",
       "      <td>3.44</td>\n",
       "      <td>16320600</td>\n",
       "      <td>...</td>\n",
       "      <td>194500000</td>\n",
       "      <td>5.78</td>\n",
       "      <td>6.36</td>\n",
       "      <td>7.04</td>\n",
       "      <td>7.31</td>\n",
       "      <td>8.37</td>\n",
       "      <td>9.76</td>\n",
       "      <td>NaN</td>\n",
       "      <td>158.23</td>\n",
       "      <td>NaN</td>\n",
       "    </tr>\n",
       "  </tbody>\n",
       "</table>\n",
       "<p>5 rows × 32 columns</p>\n",
       "</div>"
      ],
      "text/plain": [
       "       Date  GM_Volume  GM_AC  F_Volume  F_AC  UTX_Volume  UTX_AC  CAT_Volume  \\\n",
       "0  2-Jan-87     922200  11.45   2540100  2.31     1130400    3.66     1218400   \n",
       "1  5-Jan-87    2100000  11.73   8670000  2.40     3032800    3.70     1752000   \n",
       "2  6-Jan-87    2720000  11.77   6992000  2.43     6614400    3.74     1206400   \n",
       "3  7-Jan-87    2000400  11.83   7621200  2.53     4233600    3.78     2188000   \n",
       "4  8-Jan-87    2460000  11.66   5807500  2.51     3816800    3.82     2195200   \n",
       "\n",
       "   CAT_AC  MRK_Volume      ...        S&P_Volume  \\\n",
       "0    3.38    14454000      ...          91880000   \n",
       "1    3.48    11538000      ...         181900000   \n",
       "2    3.48    14279400      ...         189300000   \n",
       "3    3.45    13003200      ...         190900000   \n",
       "4    3.44    16320600      ...         194500000   \n",
       "\n",
       "   1 year Treasury Constant Maturity Rate  \\\n",
       "0                                    5.86   \n",
       "1                                    5.85   \n",
       "2                                    5.85   \n",
       "3                                    5.78   \n",
       "4                                    5.78   \n",
       "\n",
       "   3-Year Treasury Constant Maturity Rate  \\\n",
       "0                                    6.48   \n",
       "1                                    6.41   \n",
       "2                                    6.42   \n",
       "3                                    6.37   \n",
       "4                                    6.36   \n",
       "\n",
       "   10 year Treasury Constant Maturity Rate  \\\n",
       "0                                     7.18   \n",
       "1                                     7.08   \n",
       "2                                     7.08   \n",
       "3                                     7.05   \n",
       "4                                     7.04   \n",
       "\n",
       "   30 year Treasury Constant Maturity Rate  Aaa Bond Yield  Baa Bond Yield  \\\n",
       "0                                     7.44            8.49            9.97   \n",
       "1                                     7.35            8.44            9.90   \n",
       "2                                     7.36            8.41            9.86   \n",
       "3                                     7.33            8.40            9.82   \n",
       "4                                     7.31            8.37            9.76   \n",
       "\n",
       "   $/Euro   Yen/$  Brazil Real/$  \n",
       "0     NaN  158.25            NaN  \n",
       "1     NaN  159.40            NaN  \n",
       "2     NaN  158.78            NaN  \n",
       "3     NaN  158.05            NaN  \n",
       "4     NaN  158.23            NaN  \n",
       "\n",
       "[5 rows x 32 columns]"
      ]
     },
     "execution_count": 6,
     "metadata": {},
     "output_type": "execute_result"
    }
   ],
   "source": [
    "dat.head()"
   ]
  },
  {
   "cell_type": "markdown",
   "metadata": {},
   "source": [
    "Change Date as index"
   ]
  },
  {
   "cell_type": "code",
   "execution_count": 7,
   "metadata": {
    "collapsed": false
   },
   "outputs": [
    {
     "data": {
      "text/plain": [
       "array(['Date', 'GM_Volume', 'GM_AC', 'F_Volume', 'F_AC', 'UTX_Volume',\n",
       "       'UTX_AC', 'CAT_Volume', 'CAT_AC', 'MRK_Volume', 'MRK_AC',\n",
       "       'PFE_Volume', 'PFE_AC', 'IBM_Volume', 'IBM_AC', 'MSFT_Volume',\n",
       "       'MSFT_AC', 'C_Volume', 'C_AC', 'XOM_Volume', 'XOM_AC', 'S&P_AC',\n",
       "       'S&P_Volume', '1 year Treasury Constant Maturity Rate',\n",
       "       '3-Year Treasury Constant Maturity Rate',\n",
       "       '10 year Treasury Constant Maturity Rate',\n",
       "       '30 year Treasury Constant Maturity Rate', 'Aaa Bond Yield',\n",
       "       'Baa Bond Yield', '$/Euro', 'Yen/$', 'Brazil Real/$'], dtype=object)"
      ]
     },
     "execution_count": 7,
     "metadata": {},
     "output_type": "execute_result"
    }
   ],
   "source": [
    "dat.columns.values"
   ]
  },
  {
   "cell_type": "markdown",
   "metadata": {},
   "source": [
    "Conver date time"
   ]
  },
  {
   "cell_type": "code",
   "execution_count": 8,
   "metadata": {
    "collapsed": false
   },
   "outputs": [],
   "source": [
    "dat['Date'] =  dat['Date'].apply(lambda d: (pd.to_datetime(d, format='%d-%b-%y')))"
   ]
  },
  {
   "cell_type": "code",
   "execution_count": 9,
   "metadata": {
    "collapsed": false
   },
   "outputs": [
    {
     "data": {
      "text/plain": [
       "[<matplotlib.lines.Line2D at 0x7f5b4ebb46d0>]"
      ]
     },
     "execution_count": 9,
     "metadata": {},
     "output_type": "execute_result"
    },
    {
     "data": {
      "image/png": "[encoded data removed]",
      "text/plain": [
       "<matplotlib.figure.Figure at 0x7f5b522a7f10>"
      ]
     },
     "metadata": {},
     "output_type": "display_data"
    }
   ],
   "source": [
    "fig = plt.figure()\n",
    "fig.suptitle('GM Adjusted Close', fontsize=14, fontweight='bold', color='g')\n",
    "ax = fig.add_subplot(111)\n",
    "ax.set_xlabel('Dates', size='large', fontweight='bold')\n",
    "ax.set_ylabel('Adj Close', size='large', fontweight='bold')\n",
    "for tick in ax.get_xticklabels():\n",
    "    tick.set_rotation(45)\n",
    "ax.plot(dat['Date'], dat['GM_AC'])"
   ]
  },
  {
   "cell_type": "code",
   "execution_count": 10,
   "metadata": {
    "collapsed": false
   },
   "outputs": [
    {
     "data": {
      "text/plain": [
       "[<matplotlib.lines.Line2D at 0x7f5b4ea86290>]"
      ]
     },
     "execution_count": 10,
     "metadata": {},
     "output_type": "execute_result"
    },
    {
     "data": {
      "image/png": "[encoded data removed]",
      "text/plain": [
       "<matplotlib.figure.Figure at 0x7f5b4eba73d0>"
      ]
     },
     "metadata": {},
     "output_type": "display_data"
    }
   ],
   "source": [
    "fig = plt.figure()\n",
    "fig.suptitle('Ford Adjusted Close', fontsize=14, fontweight='bold', color='g')\n",
    "ax = fig.add_subplot(111)\n",
    "ax.set_xlabel('Dates', size='large', fontweight='bold')\n",
    "ax.set_ylabel('Adj Close', size='large', fontweight='bold')\n",
    "for tick in ax.get_xticklabels():\n",
    "    tick.set_rotation(45)\n",
    "ax.plot(dat['Date'], dat['F_AC'])"
   ]
  },
  {
   "cell_type": "markdown",
   "metadata": {},
   "source": [
    "- Normalize adjusted close for GM and Ford and plot them together"
   ]
  },
  {
   "cell_type": "code",
   "execution_count": 11,
   "metadata": {
    "collapsed": false
   },
   "outputs": [],
   "source": [
    "normalized_df = pd.DataFrame(dat, columns=['Date','GM_AC', 'F_AC'])"
   ]
  },
  {
   "cell_type": "code",
   "execution_count": 12,
   "metadata": {
    "collapsed": false
   },
   "outputs": [
    {
     "data": {
      "text/html": [
       "<div>\n",
       "<table border=\"1\" class=\"dataframe\">\n",
       "  <thead>\n",
       "    <tr style=\"text-align: right;\">\n",
       "      <th></th>\n",
       "      <th>GM_AC</th>\n",
       "      <th>F_AC</th>\n",
       "    </tr>\n",
       "    <tr>\n",
       "      <th>Date</th>\n",
       "      <th></th>\n",
       "      <th></th>\n",
       "    </tr>\n",
       "  </thead>\n",
       "  <tbody>\n",
       "    <tr>\n",
       "      <th>1987-01-02</th>\n",
       "      <td>11.45</td>\n",
       "      <td>2.31</td>\n",
       "    </tr>\n",
       "    <tr>\n",
       "      <th>1987-01-05</th>\n",
       "      <td>11.73</td>\n",
       "      <td>2.40</td>\n",
       "    </tr>\n",
       "    <tr>\n",
       "      <th>1987-01-06</th>\n",
       "      <td>11.77</td>\n",
       "      <td>2.43</td>\n",
       "    </tr>\n",
       "    <tr>\n",
       "      <th>1987-01-07</th>\n",
       "      <td>11.83</td>\n",
       "      <td>2.53</td>\n",
       "    </tr>\n",
       "    <tr>\n",
       "      <th>1987-01-08</th>\n",
       "      <td>11.66</td>\n",
       "      <td>2.51</td>\n",
       "    </tr>\n",
       "  </tbody>\n",
       "</table>\n",
       "</div>"
      ],
      "text/plain": [
       "            GM_AC  F_AC\n",
       "Date                   \n",
       "1987-01-02  11.45  2.31\n",
       "1987-01-05  11.73  2.40\n",
       "1987-01-06  11.77  2.43\n",
       "1987-01-07  11.83  2.53\n",
       "1987-01-08  11.66  2.51"
      ]
     },
     "execution_count": 12,
     "metadata": {},
     "output_type": "execute_result"
    }
   ],
   "source": [
    "normalized_df.set_index('Date', inplace=True)\n",
    "normalized_df.head()"
   ]
  },
  {
   "cell_type": "code",
   "execution_count": 13,
   "metadata": {
    "collapsed": false
   },
   "outputs": [],
   "source": [
    "def normalize(df):\n",
    "    result = df.copy()\n",
    "    for feature_name in df.columns:\n",
    "        max_value = df[feature_name].max()\n",
    "        min_value = df[feature_name].min()\n",
    "        result[feature_name] = (df[feature_name] - min_value) / (max_value - min_value)\n",
    "    return result\n"
   ]
  },
  {
   "cell_type": "code",
   "execution_count": 14,
   "metadata": {
    "collapsed": false
   },
   "outputs": [],
   "source": [
    "normalized_df=normalize(normalized_df)"
   ]
  },
  {
   "cell_type": "code",
   "execution_count": 15,
   "metadata": {
    "collapsed": false
   },
   "outputs": [
    {
     "data": {
      "image/png": "[encoded data removed]",
      "text/plain": [
       "<matplotlib.figure.Figure at 0x7f5b7d74cf50>"
      ]
     },
     "metadata": {},
     "output_type": "display_data"
    }
   ],
   "source": [
    "fig = plt.figure()\n",
    "fig.suptitle('Comparison Adj Close Between GM and Ford', fontsize=14, fontweight='bold', color='g')\n",
    "ax = fig.add_subplot(111)\n",
    "ax.set_xlabel('Dates', size='large', fontweight='bold')\n",
    "ax.set_ylabel('Adj Close', size='large', fontweight='bold')\n",
    "ax.plot(normalized_df['GM_AC'], 'b-')\n",
    "ax.plot(normalized_df['F_AC'], 'r-')\n",
    "for tick in ax.get_xticklabels():\n",
    "    tick.set_rotation(45)\n",
    "ax.legend(['Ford', 'GM'], loc='upper left')\n",
    "fig.savefig('AdjClose.png')"
   ]
  },
  {
   "cell_type": "markdown",
   "metadata": {},
   "source": [
    "Now it's time to calculate daily return for these stocks"
   ]
  },
  {
   "cell_type": "code",
   "execution_count": 16,
   "metadata": {
    "collapsed": false
   },
   "outputs": [],
   "source": [
    "GMReturn = dat.GM_AC.pct_change()"
   ]
  },
  {
   "cell_type": "code",
   "execution_count": 17,
   "metadata": {
    "collapsed": false
   },
   "outputs": [
    {
     "data": {
      "text/plain": [
       "0         NaN\n",
       "1    0.024454\n",
       "2    0.003410\n",
       "3    0.005098\n",
       "4   -0.014370\n",
       "Name: GM_AC, dtype: float64"
      ]
     },
     "execution_count": 17,
     "metadata": {},
     "output_type": "execute_result"
    }
   ],
   "source": [
    "GMReturn.head()"
   ]
  },
  {
   "cell_type": "code",
   "execution_count": 18,
   "metadata": {
    "collapsed": false
   },
   "outputs": [],
   "source": [
    "FReturn = dat.F_AC.pct_change()"
   ]
  },
  {
   "cell_type": "code",
   "execution_count": 19,
   "metadata": {
    "collapsed": false
   },
   "outputs": [
    {
     "data": {
      "text/plain": [
       "<matplotlib.text.Text at 0x7f5b4ea69490>"
      ]
     },
     "execution_count": 19,
     "metadata": {},
     "output_type": "execute_result"
    },
    {
     "data": {
      "image/png": "[encoded data removed]",
      "text/plain": [
       "<matplotlib.figure.Figure at 0x7f5b4ea536d0>"
      ]
     },
     "metadata": {},
     "output_type": "display_data"
    }
   ],
   "source": [
    "plt.scatter(GMReturn, FReturn, alpha=0.5)\n",
    "plt.xlabel('GMReturn', fontsize=14, fontweight='bold', color='g')\n",
    "plt.ylabel('YReturn', fontsize=14, fontweight='bold', color='r')"
   ]
  },
  {
   "cell_type": "markdown",
   "metadata": {},
   "source": [
    "The  GM  and  Ford  returns  do  seem  positively  correlated.   There  are some outlying returns (${where}  |GM Return|>0.1\n",
    ", |FReturn|>0.1)$. Outlying GM returns do seem to occur with outlying Ford returns."
   ]
  },
  {
   "cell_type": "code",
   "execution_count": 20,
   "metadata": {
    "collapsed": false
   },
   "outputs": [],
   "source": [
    "GMReturn = pd.DataFrame()\n",
    "GMReturn['DailyReturn'] = dat.GM_AC.pct_change()\n",
    "GMReturn['LogReturn'] = np.log(dat.GM_AC/dat.GM_AC.shift())"
   ]
  },
  {
   "cell_type": "code",
   "execution_count": 21,
   "metadata": {
    "collapsed": false
   },
   "outputs": [
    {
     "data": {
      "text/plain": [
       "<matplotlib.text.Text at 0x7f5b4e881bd0>"
      ]
     },
     "execution_count": 21,
     "metadata": {},
     "output_type": "execute_result"
    },
    {
     "data": {
      "image/png": "[encoded data removed]",
      "text/plain": [
       "<matplotlib.figure.Figure at 0x7f5b4ea48690>"
      ]
     },
     "metadata": {},
     "output_type": "display_data"
    }
   ],
   "source": [
    "plt.scatter(GMReturn['DailyReturn'], GMReturn['LogReturn'], color='b')\n",
    "plt.title('Dilay Return VS Log Return', fontsize=14, fontweight='bold', color='r')\n",
    "plt.xlabel('Daily Return', size='large', fontweight='bold', color='g')\n",
    "plt.ylabel('Log Return', size='large', fontweight='bold', color='g')"
   ]
  },
  {
   "cell_type": "markdown",
   "metadata": {},
   "source": [
    "* Correlation between Log Return and Daily Return"
   ]
  },
  {
   "cell_type": "code",
   "execution_count": 22,
   "metadata": {
    "collapsed": false
   },
   "outputs": [
    {
     "data": {
      "text/html": [
       "<div>\n",
       "<table border=\"1\" class=\"dataframe\">\n",
       "  <thead>\n",
       "    <tr style=\"text-align: right;\">\n",
       "      <th></th>\n",
       "      <th>DailyReturn</th>\n",
       "      <th>LogReturn</th>\n",
       "    </tr>\n",
       "  </thead>\n",
       "  <tbody>\n",
       "    <tr>\n",
       "      <th>DailyReturn</th>\n",
       "      <td>1.000000</td>\n",
       "      <td>0.999541</td>\n",
       "    </tr>\n",
       "    <tr>\n",
       "      <th>LogReturn</th>\n",
       "      <td>0.999541</td>\n",
       "      <td>1.000000</td>\n",
       "    </tr>\n",
       "  </tbody>\n",
       "</table>\n",
       "</div>"
      ],
      "text/plain": [
       "             DailyReturn  LogReturn\n",
       "DailyReturn     1.000000   0.999541\n",
       "LogReturn       0.999541   1.000000"
      ]
     },
     "execution_count": 22,
     "metadata": {},
     "output_type": "execute_result"
    }
   ],
   "source": [
    "GMReturn.corr()"
   ]
  },
  {
   "cell_type": "markdown",
   "metadata": {},
   "source": [
    "** --------------------------------------------------------------------------------------**\n",
    "\n",
    "#### <span style=\"color:red;\">Simulation : Leverage</spna>\n",
    "\n",
    "** --------------------------------------------------------------------------------------**\n"
   ]
  },
  {
   "cell_type": "markdown",
   "metadata": {},
   "source": [
    "* A hedge fund owns \\$1,000,000 of stock.  Use \\$50,000 of its own capital and \\$950,000 in borrowed money.\n",
    "\n",
    "\n",
    "* A hedge is an investment position intended to offset potential losses/gains that may be incurred by a companion investment.  In simple language, a hedge is used to reduce any substantial losses/gains suffered by an individual or an organization.\n",
    "\n",
    "\n",
    "* If the value of the stock falls below $950,000 at the end of any trading day, then the hedge fund must sell the stock to repay the loan. \n",
    "\n",
    "\n",
    "* The hedge fund is said to be leveraged 20:1 since its position is 20 times the amount of its own capital invested.\n",
    "\n",
    "\n",
    "* The daily log returns on the stock have a mean of 0.05/year and a standard deviation of 0.23/year.  (or mean=$0.05\\over 253$ per trading day, deviation=$0.23 \\over \\sqrt{253}$ per tradingday"
   ]
  },
  {
   "cell_type": "markdown",
   "metadata": {},
   "source": [
    "** <span style=\"color:orange;\">What is the probability that the value of the stock will be below \\$950,000 at the close of at least one of the next 45 trading days?</span>**"
   ]
  },
  {
   "cell_type": "code",
   "execution_count": 23,
   "metadata": {
    "collapsed": false
   },
   "outputs": [
    {
     "name": "stdout",
     "output_type": "stream",
     "text": [
      "Probability that the value of the stock will be below $950,000 [ 0.50826 ]\n"
     ]
    }
   ],
   "source": [
    "niter = 100000\n",
    "below = range(niter)\n",
    "rnorm = r('rnorm')  # create an alias to the R function rnorm\n",
    "for i in range(1, niter):\n",
    "    x = rnorm(n=45, mean=0.05/253, sd=0.23/np.sqrt(253))\n",
    "    logPrice = log(1e6) + np.cumsum(x)\n",
    "    minlogP = min(logPrice) # minimum price over next 45 days\n",
    "    below[i] = int(minlogP < log(950000))\n",
    "print \"Probability that the value of the stock will be below $950,000 [\",np.mean(below),\"]\""
   ]
  },
  {
   "cell_type": "markdown",
   "metadata": {},
   "source": [
    "* Suppose the hedge fund will sell the stock for a profit of at least \\$100,000 if the value of the stock rises to at least \\$1,100,000 at the end of one of the first 100 trading days, \n",
    "\n",
    "\n",
    "* sell it for a loss if the value falls below \\$950,000 at the end of one of the first 100 trading days\n",
    "\n",
    "\n",
    "* sell after 100 trading days if the closing price has stayed between \\$950,000 and \\$1,100,000"
   ]
  },
  {
   "cell_type": "markdown",
   "metadata": {},
   "source": [
    "####  <span style=\"color:orange;\">What is the probability that the hedge fund will make a profit of at least \\$100,000? </span>"
   ]
  },
  {
   "cell_type": "code",
   "execution_count": 24,
   "metadata": {
    "collapsed": false
   },
   "outputs": [
    {
     "name": "stdout",
     "output_type": "stream",
     "text": [
      "Mean Above ( 0.392 )\n",
      "Mean Below ( 0.5852 )\n",
      "Profit ( 4994.92319373 )\n"
     ]
    }
   ],
   "source": [
    "niter = 10000\n",
    "below = [0 for i in range(niter)]\n",
    "above = [0 for i in range(niter)]\n",
    "logPrice = [0 for i in range(niter)]\n",
    "rnorm = r('rnorm')  # create an alias to the R function rnorm\n",
    "for i in range(1, niter):\n",
    "    x = rnorm(n=100, mean=0.05/253, sd=0.23/np.sqrt(253))\n",
    "    for j in range(100):\n",
    "        logPrice[i] = log(1000000) + np.cumsum(x)[j]\n",
    "        if (logPrice[i] > log(1100000)):\n",
    "            above[i]=1\n",
    "            below[i]=0\n",
    "            break\n",
    "        elif (logPrice[i] < log(950000)):\n",
    "            above[i]=0\n",
    "            below[i]=1\n",
    "            break\n",
    "        else:\n",
    "            above[i] = 0\n",
    "            below[i] = 0\n",
    "print \"Mean Above (\",np.mean(above),\")\" \n",
    "print \"Mean Below (\",np.mean(below),\")\"\n",
    "profit = np.exp(np.mean(logPrice))-1000000\n",
    "print \"Profit (\",profit,\")\""
   ]
  },
  {
   "cell_type": "markdown",
   "metadata": {},
   "source": [
    "<span style=\"color:green;\">\n",
    "**After 100000 iterations, the simulated probability that:**\n",
    "</span>\n",
    "\n",
    "* <span style=\"color:blue;\"> Hedge fundwill make a proﬁt of at least \\$100000 is 0.3947 </span>\n",
    "* <span style=\"color:blue;\"> Hedge fundwill make a loss of at least \\$100000 is 0.5804 </span>\n",
    "* <span style=\"color:blue;\"> Based on above strategy expected profit is \\$5668.07110857 </span>"
   ]
  },
  {
   "cell_type": "markdown",
   "metadata": {},
   "source": [
    "####  <span style=\"color:orange;\"> What is the expected return? \n",
    "\n",
    "* Only \\$50,000 was invested. \n",
    "* Units of return are time, e.g, one can express a return as a daily return or a weekly return.\n",
    "</span>"
   ]
  },
  {
   "cell_type": "code",
   "execution_count": 25,
   "metadata": {
    "collapsed": false
   },
   "outputs": [],
   "source": [
    "niter = 10000\n",
    "below = [0 for i in range(niter)]\n",
    "above = [0 for i in range(niter)]\n",
    "logPrice = [0 for i in range(niter)]\n",
    "bookedProfit = [0 for i in range(niter)]\n",
    "rnorm = r('rnorm')  # create an alias to the R function rnorm\n",
    "for i in range(1, niter):\n",
    "    x = rnorm(n=100, mean=0.05/253, sd=0.23/np.sqrt(253))\n",
    "    for j in range(100):\n",
    "        logPrice[i] = log(1000000) + np.cumsum(x)[j]\n",
    "        if (logPrice[i] > log(1100000)):\n",
    "            above[i]=1\n",
    "            below[i]=0\n",
    "            bookedProfit[i] = np.exp(logPrice[i])-1000000\n",
    "            break\n",
    "        elif (logPrice[i] < log(950000)):\n",
    "            above[i]=0\n",
    "            below[i]=1\n",
    "            bookedProfit[i] = np.exp(logPrice[i])-1000000\n",
    "            break\n",
    "        else:\n",
    "            above[i] = 0\n",
    "            below[i] = 0\n",
    "#bookedProfit"
   ]
  },
  {
   "cell_type": "markdown",
   "metadata": {},
   "source": []
  },
  {
   "cell_type": "code",
   "execution_count": null,
   "metadata": {
    "collapsed": true
   },
   "outputs": [],
   "source": []
  },
  {
   "cell_type": "markdown",
   "metadata": {},
   "source": [
    "---------------------------------\n",
    "#### <span style='color:red'>            $$ McDonald’s  Stock  $$ </span>\n",
    "--------------------------------"
   ]
  },
  {
   "cell_type": "code",
   "execution_count": 26,
   "metadata": {
    "collapsed": true
   },
   "outputs": [],
   "source": [
    "mcd_dat = pd.read_csv(\"MCD_PriceDaily.csv\")"
   ]
  },
  {
   "cell_type": "code",
   "execution_count": 27,
   "metadata": {
    "collapsed": false
   },
   "outputs": [
    {
     "data": {
      "text/html": [
       "<div>\n",
       "<table border=\"1\" class=\"dataframe\">\n",
       "  <thead>\n",
       "    <tr style=\"text-align: right;\">\n",
       "      <th></th>\n",
       "      <th>Date</th>\n",
       "      <th>Open</th>\n",
       "      <th>High</th>\n",
       "      <th>Low</th>\n",
       "      <th>Close</th>\n",
       "      <th>Volume</th>\n",
       "      <th>Adj Close</th>\n",
       "    </tr>\n",
       "  </thead>\n",
       "  <tbody>\n",
       "    <tr>\n",
       "      <th>0</th>\n",
       "      <td>1/4/2010</td>\n",
       "      <td>62.63</td>\n",
       "      <td>63.07</td>\n",
       "      <td>62.31</td>\n",
       "      <td>62.78</td>\n",
       "      <td>5839300</td>\n",
       "      <td>53.99</td>\n",
       "    </tr>\n",
       "    <tr>\n",
       "      <th>1</th>\n",
       "      <td>1/5/2010</td>\n",
       "      <td>62.66</td>\n",
       "      <td>62.75</td>\n",
       "      <td>62.19</td>\n",
       "      <td>62.30</td>\n",
       "      <td>7099000</td>\n",
       "      <td>53.58</td>\n",
       "    </tr>\n",
       "    <tr>\n",
       "      <th>2</th>\n",
       "      <td>1/6/2010</td>\n",
       "      <td>62.20</td>\n",
       "      <td>62.41</td>\n",
       "      <td>61.06</td>\n",
       "      <td>61.45</td>\n",
       "      <td>10551300</td>\n",
       "      <td>52.85</td>\n",
       "    </tr>\n",
       "    <tr>\n",
       "      <th>3</th>\n",
       "      <td>1/7/2010</td>\n",
       "      <td>61.25</td>\n",
       "      <td>62.34</td>\n",
       "      <td>61.11</td>\n",
       "      <td>61.90</td>\n",
       "      <td>7517700</td>\n",
       "      <td>53.24</td>\n",
       "    </tr>\n",
       "    <tr>\n",
       "      <th>4</th>\n",
       "      <td>1/8/2010</td>\n",
       "      <td>62.27</td>\n",
       "      <td>62.41</td>\n",
       "      <td>61.60</td>\n",
       "      <td>61.84</td>\n",
       "      <td>6107300</td>\n",
       "      <td>53.19</td>\n",
       "    </tr>\n",
       "  </tbody>\n",
       "</table>\n",
       "</div>"
      ],
      "text/plain": [
       "       Date   Open   High    Low  Close    Volume  Adj Close\n",
       "0  1/4/2010  62.63  63.07  62.31  62.78   5839300      53.99\n",
       "1  1/5/2010  62.66  62.75  62.19  62.30   7099000      53.58\n",
       "2  1/6/2010  62.20  62.41  61.06  61.45  10551300      52.85\n",
       "3  1/7/2010  61.25  62.34  61.11  61.90   7517700      53.24\n",
       "4  1/8/2010  62.27  62.41  61.60  61.84   6107300      53.19"
      ]
     },
     "execution_count": 27,
     "metadata": {},
     "output_type": "execute_result"
    }
   ],
   "source": [
    "mcd_dat.head()"
   ]
  },
  {
   "cell_type": "code",
   "execution_count": 28,
   "metadata": {
    "collapsed": true
   },
   "outputs": [],
   "source": [
    "mcd_dat.set_index('Date', inplace=True)"
   ]
  },
  {
   "cell_type": "markdown",
   "metadata": {},
   "source": [
    "* Plot Adj Close"
   ]
  },
  {
   "cell_type": "code",
   "execution_count": 29,
   "metadata": {
    "collapsed": false
   },
   "outputs": [
    {
     "data": {
      "text/plain": [
       "<matplotlib.text.Text at 0x7f5b4ea48c90>"
      ]
     },
     "execution_count": 29,
     "metadata": {},
     "output_type": "execute_result"
    },
    {
     "data": {
      "image/png": "[encoded data removed]",
      "text/plain": [
       "<matplotlib.figure.Figure at 0x7f5b521ed250>"
      ]
     },
     "metadata": {},
     "output_type": "display_data"
    }
   ],
   "source": [
    "mcd_dat[['Adj Close']].plot(alpha=0.75, color='y')\n",
    "plt.title(\"McD Adj Close\",  fontsize=14, fontweight='bold', color='r')\n",
    "plt.xlabel('Date', fontsize=14, fontweight='bold', color='g')\n",
    "plt.ylabel('Price ($)',  fontsize=14, fontweight='bold', color='g')"
   ]
  },
  {
   "cell_type": "markdown",
   "metadata": {},
   "source": [
    "* Daily Return and Log Returns"
   ]
  },
  {
   "cell_type": "code",
   "execution_count": 30,
   "metadata": {
    "collapsed": false
   },
   "outputs": [],
   "source": [
    "mcd_returns = pd.DataFrame()\n",
    "mcd_returns['Daily'] = mcd_dat['Adj Close'].pct_change()\n",
    "mcd_returns['Log'] = np.log(mcd_dat['Adj Close']/mcd_dat['Adj Close'].shift())"
   ]
  },
  {
   "cell_type": "code",
   "execution_count": 31,
   "metadata": {
    "collapsed": false
   },
   "outputs": [
    {
     "data": {
      "text/html": [
       "<div>\n",
       "<table border=\"1\" class=\"dataframe\">\n",
       "  <thead>\n",
       "    <tr style=\"text-align: right;\">\n",
       "      <th></th>\n",
       "      <th>Daily</th>\n",
       "      <th>Log</th>\n",
       "    </tr>\n",
       "    <tr>\n",
       "      <th>Date</th>\n",
       "      <th></th>\n",
       "      <th></th>\n",
       "    </tr>\n",
       "  </thead>\n",
       "  <tbody>\n",
       "    <tr>\n",
       "      <th>1/4/2010</th>\n",
       "      <td>NaN</td>\n",
       "      <td>NaN</td>\n",
       "    </tr>\n",
       "    <tr>\n",
       "      <th>1/5/2010</th>\n",
       "      <td>-0.007594</td>\n",
       "      <td>-0.007623</td>\n",
       "    </tr>\n",
       "    <tr>\n",
       "      <th>1/6/2010</th>\n",
       "      <td>-0.013624</td>\n",
       "      <td>-0.013718</td>\n",
       "    </tr>\n",
       "    <tr>\n",
       "      <th>1/7/2010</th>\n",
       "      <td>0.007379</td>\n",
       "      <td>0.007352</td>\n",
       "    </tr>\n",
       "    <tr>\n",
       "      <th>1/8/2010</th>\n",
       "      <td>-0.000939</td>\n",
       "      <td>-0.000940</td>\n",
       "    </tr>\n",
       "  </tbody>\n",
       "</table>\n",
       "</div>"
      ],
      "text/plain": [
       "             Daily       Log\n",
       "Date                        \n",
       "1/4/2010       NaN       NaN\n",
       "1/5/2010 -0.007594 -0.007623\n",
       "1/6/2010 -0.013624 -0.013718\n",
       "1/7/2010  0.007379  0.007352\n",
       "1/8/2010 -0.000939 -0.000940"
      ]
     },
     "execution_count": 31,
     "metadata": {},
     "output_type": "execute_result"
    }
   ],
   "source": [
    "mcd_returns.head()"
   ]
  },
  {
   "cell_type": "code",
   "execution_count": 32,
   "metadata": {
    "collapsed": false
   },
   "outputs": [
    {
     "data": {
      "text/plain": [
       "<matplotlib.text.Text at 0x7f5b4e5daad0>"
      ]
     },
     "execution_count": 32,
     "metadata": {},
     "output_type": "execute_result"
    },
    {
     "data": {
      "image/png": "[encoded data removed]",
      "text/plain": [
       "<matplotlib.figure.Figure at 0x7f5b4e7eed10>"
      ]
     },
     "metadata": {},
     "output_type": "display_data"
    }
   ],
   "source": [
    "plt.scatter(mcd_returns['Daily'], mcd_returns['Log'])\n",
    "plt.title(\"Daily Vs Log Return\",  fontsize=14, fontweight='bold', color='r')\n",
    "plt.xlabel('Daily Return', fontsize=14, fontweight='bold', color='g')\n",
    "plt.ylabel('Log Return',  fontsize=14, fontweight='bold', color='g')"
   ]
  },
  {
   "cell_type": "code",
   "execution_count": 33,
   "metadata": {
    "collapsed": false
   },
   "outputs": [
    {
     "name": "stdout",
     "output_type": "stream",
     "text": [
      "count    1176.000000\n",
      "mean        0.000503\n",
      "std         0.008900\n",
      "min        -0.044529\n",
      "25%        -0.004358\n",
      "50%         0.000745\n",
      "75%         0.005432\n",
      "max         0.046848\n",
      "Name: Daily, dtype: float64\n",
      "count    1176.000000\n",
      "mean        0.000463\n",
      "std         0.008901\n",
      "min        -0.045551\n",
      "25%        -0.004367\n",
      "50%         0.000745\n",
      "75%         0.005417\n",
      "max         0.045783\n",
      "Name: Log, dtype: float64\n"
     ]
    }
   ],
   "source": [
    "print mcd_returns.Daily.describe()\n",
    "print mcd_returns.Log.describe()"
   ]
  },
  {
   "cell_type": "markdown",
   "metadata": {},
   "source": []
  },
  {
   "cell_type": "code",
   "execution_count": 34,
   "metadata": {
    "collapsed": true
   },
   "outputs": [],
   "source": [
    "mcd_returns['Daily'].fillna(0, inplace=True)\n",
    "mcd_returns['Log'].fillna(0, inplace=True)"
   ]
  },
  {
   "cell_type": "code",
   "execution_count": null,
   "metadata": {
    "collapsed": true
   },
   "outputs": [],
   "source": []
  }
 ],
 "metadata": {
  "kernelspec": {
   "display_name": "Python 2",
   "language": "python",
   "name": "python2"
  },
  "language_info": {
   "codemirror_mode": {
    "name": "ipython",
    "version": 2
   },
   "file_extension": ".py",
   "mimetype": "text/x-python",
   "name": "python",
   "nbconvert_exporter": "python",
   "pygments_lexer": "ipython2",
   "version": "2.7.11"
  }
 },
 "nbformat": 4,
 "nbformat_minor": 0
}
